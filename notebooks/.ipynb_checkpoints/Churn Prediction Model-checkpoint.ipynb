{
 "cells": [
  {
   "cell_type": "markdown",
   "id": "84a42433-e3ed-4f66-b1f5-3963c7fc35f4",
   "metadata": {},
   "source": [
    "# Goal: Predict if a customer will churn (Yes = 1, No = 0)"
   ]
  },
  {
   "cell_type": "code",
   "execution_count": null,
   "id": "75597e89-40cf-4770-bbd6-5e22f75daf13",
   "metadata": {},
   "outputs": [],
   "source": [
    "# Import Libraries and Load Data\n",
    "import pandas as pd\n",
    "import numpy as np\n",
    "from sklearn.model_selection import train_test_split\n",
    "from sklearn.ensemble import RandomForestClassifier\n",
    "from sklearn.linear_model import LogisticRegression\n",
    "from sklearn.metrics import accuracy_score, classification_report, confusion_matrix"
   ]
  },
  {
   "cell_type": "markdown",
   "id": "1ad7e8f1-a94e-4057-abc2-0e832637e40d",
   "metadata": {},
   "source": [
    "- use both RandomForestClassifier and LogisticRegression\n",
    "- Try multiple algorithms Compare their performance Pick the best model for final predictions\n",
    "\n",
    "- ### Accuracy_score\n",
    "  - accuracy_score(y_true, y_pred) = how many predictions were correct\n",
    "  - Accuracy = (Correct Predictions) / (Total Predictions)\n",
    "\n",
    "- ### Classification_report\n",
    "  - classification_report(y_true, y_pred) = Gives a detailed breakdown of model performance\n",
    "  - Precision = How many predicted churned were actually churned?\n",
    "  - Recall = How many actual churned customers were identified?\n",
    "  - F1-score = Harmonic mean of precision and recall\n",
    "  - Support = Count of actual samples for each class (0 and 1)\n",
    "\n",
    "- ### Confusion_matrix\n",
    "  - confusion_matrix(y_true, y_pred) = A 2x2 table that shows: Exact counts of TP, FP, FN, TN\n",
    "  ### Confusion Matrix Explained\n",
    "|                      | **Predicted: No (0)** | **Predicted: Yes (1)** |\n",
    "|----------------------|-----------------------|-------------------------|\n",
    "| **Actual: No (0)**   | ✅ True Negative (TN)  | ❌ False Positive (FP)  |\n",
    "| **Actual: Yes (1)**  | ❌ False Negative (FN) | ✅ True Positive (TP)   |\n",
    "\n"
   ]
  },
  {
   "cell_type": "code",
   "execution_count": null,
   "id": "c6ff55de-fcf5-4d22-bc31-974508b38a6a",
   "metadata": {},
   "outputs": [],
   "source": [
    "# Load your cleaned CSV\n",
    "df = pd.read_csv(r\"C:\\Users\\bharg\\Desktop\\TEMP\\Khushi Di project\\DA assignment\\CSV_files\\purchase_behavior.csv\")\n",
    "df.head()"
   ]
  },
  {
   "cell_type": "code",
   "execution_count": null,
   "id": "ff2cc376-2df4-48be-9e6c-9f90198d1c35",
   "metadata": {
    "scrolled": true
   },
   "outputs": [],
   "source": [
    "# Clean & Prepare Data\n",
    "df = df.drop(columns=[\"customer_id\", \"customer_segment\"])\n",
    "# customer_id drop because it’s just a unique name or number\n",
    "# customer_segment drop because it’s created using other features like total spend or order value\n",
    "\n",
    "# Fill or drop missing values\n",
    "df = df.dropna()\n",
    "\n",
    "df.isnull().sum()"
   ]
  },
  {
   "cell_type": "code",
   "execution_count": null,
   "id": "d4731d37-a687-43fd-b1b2-f1eeebe051ed",
   "metadata": {},
   "outputs": [],
   "source": [
    "# Define Features and Target\n",
    "# We are preparing the data for machine learning by splitting it into: X , y\n",
    "# X → Features (the input the model will learn from) it is used to train \n",
    "# y → Target (the output the model will try to predict) it is use to check model's output\n",
    "X = df.drop(\"churned\", axis=1) # In X contain (total_spent, number_of_orders, days_since_last_purchase, avg_order_value)\n",
    "y = df[\"churned\"] # In y contain (churned)"
   ]
  },
  {
   "cell_type": "code",
   "execution_count": null,
   "id": "a9d24ab6-7814-402c-82f5-d38812f0fb57",
   "metadata": {},
   "outputs": [],
   "source": [
    "# Train-Test Split\n",
    "X_train, X_test, y_train, y_test =  train_test_split(X, y, test_size = 0.3 , random_state = 42)\n",
    "# test_size = 0.3 - 30% of the data will be used for testing & remaining 70% will be used to train the model.  (0.3 It's a standard choice)\n",
    "# random_state = 42 - Machine learning splits data randomly (42 is commonly used by data scientists)"
   ]
  },
  {
   "cell_type": "code",
   "execution_count": null,
   "id": "12b188cc-f871-4391-bf57-f23e98accf76",
   "metadata": {},
   "outputs": [],
   "source": [
    "# Train Models\n",
    "# Logistic Regression\n",
    "lr = LogisticRegression(max_iter=1000) # Try up to 1000 times to get the best result\n",
    "lr.fit(X_train, y_train)                # Train the model using training data\n",
    "y_pred_lr = lr.predict(X_test)         # Predict churn on test data"
   ]
  },
  {
   "cell_type": "code",
   "execution_count": null,
   "id": "f7dc6399-4f7e-45c5-b5b5-b78d7fe4a459",
   "metadata": {},
   "outputs": [],
   "source": [
    "# Random Forest\n",
    "rf = RandomForestClassifier(n_estimators=100, random_state=42) # Make a Random Forest model using 100 trees\n",
    "rf.fit(X_train, y_train)            # Train the model\n",
    "y_pred_rf = rf.predict(X_test)       # Predict churn"
   ]
  },
  {
   "cell_type": "code",
   "execution_count": null,
   "id": "1deeb5ef-58f6-48ea-b7ac-18fc84a7a141",
   "metadata": {},
   "outputs": [],
   "source": [
    "# Evaluate Performance\n",
    "print(\"Logistic Regression Report:\")\n",
    "print(classification_report(y_test, y_pred_lr))\n",
    "print(confusion_matrix(y_test, y_pred_lr))\n",
    "\n",
    "print(\"\\nRandom Forest Report:\")\n",
    "print(classification_report(y_test, y_pred_rf))\n",
    "print(confusion_matrix(y_test, y_pred_rf))"
   ]
  },
  {
   "cell_type": "code",
   "execution_count": null,
   "id": "b11b4631-bf27-452f-86f8-b340bdf6c276",
   "metadata": {},
   "outputs": [],
   "source": [
    "# Random Forest is better at catching customers who are about to leave.\n",
    "# This is more helpful for a business because they can take action and try to stop those customers from leaving."
   ]
  },
  {
   "cell_type": "code",
   "execution_count": null,
   "id": "05d64106-71d9-4db2-9ad9-2948db063539",
   "metadata": {},
   "outputs": [],
   "source": [
    "# Show Accuracy\n",
    "print(\"Logistic Regression Accuracy:\", round(accuracy_score(y_test, y_pred_lr),3))\n",
    "print(\"Random Forest Accuracy:\", round(accuracy_score(y_test, y_pred_rf),3))\n"
   ]
  },
  {
   "cell_type": "markdown",
   "id": "7be3a0c6-d190-4bc4-a8fb-ed7ab8add05e",
   "metadata": {},
   "source": [
    "### Logistic Regression has slightly higher accuracy (86.8%) than Random Forest (86.7%).\n",
    "- Random Forest is still better at finding customers because who are likely to leave (churn), which is more important for the business than just accuracy"
   ]
  },
  {
   "cell_type": "code",
   "execution_count": null,
   "id": "acb11831-e232-4fd5-a3c2-7b8dbd851cd0",
   "metadata": {},
   "outputs": [],
   "source": [
    "import matplotlib.pyplot as plt\n",
    "\n",
    "importances = rf.feature_importances_     # Gets importance of each feature\n",
    "features = X.columns                      # Gets the names of your features\n",
    "\n",
    "plt.title(\"Feature Importance - Random Forest\")   # Adds a title\n",
    "plt.barh(features, importances)           # Draws a horizontal bar chart\n",
    "plt.figure(figsize=(10, 5))               # Sets the size of the chart\n",
    "plt.show()     \n",
    "\n",
    "# This shows which features (like total_spent, days_since_last_purchase) are most important for predicting churn.\n",
    "# The longer the bar, the more the model depends on that feature."
   ]
  },
  {
   "cell_type": "code",
   "execution_count": null,
   "id": "e1d4cda4-7516-4c7e-a492-b696ddabfaf1",
   "metadata": {},
   "outputs": [],
   "source": [
    "# Predict for New Data\n",
    "# Format: [total_spent, number_of_orders, days_since_last_purchase, avg_order_value]\n",
    "new_data = [[450.00, 3, 10, 150.00]]\n",
    "prediction = rf.predict(new_data)\n",
    "print(\"Will the customer churn? = \", prediction[0]) \n",
    "# What the Output Means:\n",
    "# 0 → Not Churned\n",
    "# 1 → Churned"
   ]
  },
  {
   "cell_type": "markdown",
   "id": "939fed7d-86b8-4564-b4d7-686b36235600",
   "metadata": {},
   "source": [
    "- Churned (1)\n",
    "  - He customer has left or stopped buying.\n",
    "  - The business might lose this customer.\n",
    "- Not Churned (0)\n",
    "  - The customer is still active and buying.\n",
    "  - They are loyal (for now)."
   ]
  }
 ],
 "metadata": {
  "kernelspec": {
   "display_name": "Python 3 (ipykernel)",
   "language": "python",
   "name": "python3"
  },
  "language_info": {
   "codemirror_mode": {
    "name": "ipython",
    "version": 3
   },
   "file_extension": ".py",
   "mimetype": "text/x-python",
   "name": "python",
   "nbconvert_exporter": "python",
   "pygments_lexer": "ipython3",
   "version": "3.12.7"
  }
 },
 "nbformat": 4,
 "nbformat_minor": 5
}
